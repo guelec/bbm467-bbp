{
 "cells": [
  {
   "cell_type": "code",
   "execution_count": 1,
   "id": "466ed324",
   "metadata": {},
   "outputs": [],
   "source": [
    "import twint\n",
    "import nest_asyncio\n",
    "import pandas as pd\n",
    "from IPython.display import HTML\n",
    "import requests\n",
    "nest_asyncio.apply()"
   ]
  },
  {
   "cell_type": "code",
   "execution_count": 2,
   "id": "f116398f",
   "metadata": {},
   "outputs": [
    {
     "name": "stdout",
     "output_type": "stream",
     "text": [
      "1611331033835642882 2023-01-06 14:57:10 +0300 <TurkiyeBurslari> Hacettepe University offers you a unique experience in the department of Archeology and Anthropology. 🏺🗺️  It has one of the few laboratories in the world. 🔬  👉  https://t.co/s8o09RUyua  #EverythingAtOnce #TürkiyeScholarships #HandsOnExperience  https://t.co/cu69YAbu4i\n",
      "1610734607615369216 2023-01-04 23:27:11 +0300 <YahyaDemirler> As Neurosurgery Interest Group of Hacettepe University Faculty of Medicine Scientific Research Community (@hutbat_official  ) we were in usual Ankara Neurosurgery Meetings in Gazi University School of Medicine. Thanks to our mentor professor Şahin Hanalioğlu (@hanalioglu  )  https://t.co/SEB4cSF1FI\n",
      "1610646863719407616 2023-01-04 17:38:31 +0300 <meltmpp> The Godfather - Hacettepe University\n",
      "1610242555156865024 2023-01-03 14:51:56 +0300 <JSesayConcepts> Turkey 🇹🇷 Universities with the highest Acceptance Rate  1. Hacettepe University : 97%   2. Yüzüncü Yıl University : 89%  3. Suleyman Demirel University: 86%  4.Inoun University : 73%   5. Mustafa Kemal Üniversitesi : 69%\n",
      "1609119866417553409 2022-12-31 12:30:46 +0300 <hacettepepa> Yeni yılınızda sağlık başta olmak üzere; mutluluk, huzur, başarı dileriz! ✨  Daha çok P&amp;A'li anılara... 🤍🥂  #hacettepe #hacettepeüniversitesi #hacettepeuniversity #hacettepepa #yılbaşı #christmas #happynewyear  https://t.co/uCHRZ566gh\n",
      "1608032148149116928 2022-12-28 12:28:34 +0300 <cocuklankara> Takipcimize yorumlardan yardımcı olalım mı @hacettepe_university @hast.hacettepeuniversitesi #çocukdoktoruankara #hacettepecocukhastanesi #cocuklaankarayasizdengelenler  https://t.co/u7Mxnzn2rK\n",
      "[!] No more data! Scraping will stop now.\n",
      "found 0 deleted tweets in this search.\n"
     ]
    }
   ],
   "source": [
    "c = twint.Config()\n",
    "\n",
    "# I Will limit number of tweets as 100, otherwise it will store all recent tweets.\n",
    "c.Search = \"Hacettepe University\"\n",
    "c.Pandas = True\n",
    "c.Limit = 10 ## if we ommit this part we can get limitless data\n",
    "\n",
    "twint.run.Search(c)"
   ]
  },
  {
   "cell_type": "code",
   "execution_count": 3,
   "id": "21c7c45c",
   "metadata": {},
   "outputs": [],
   "source": [
    "Tweets_df = twint.storage.panda.Tweets_df"
   ]
  },
  {
   "cell_type": "code",
   "execution_count": 4,
   "id": "e5193e01",
   "metadata": {},
   "outputs": [],
   "source": [
    "# to show our tweets in a html page format\n",
    "def show_tweet(link):\n",
    "    '''Display the contents of a tweet. '''\n",
    "    url = 'https://publish.twitter.com/oembed?url=%s' % link\n",
    "    response = requests.get(url)\n",
    "    html = response.json()[\"html\"]\n",
    "    display(HTML(html))"
   ]
  },
  {
   "cell_type": "code",
   "execution_count": 5,
   "id": "3bd63be5",
   "metadata": {},
   "outputs": [
    {
     "data": {
      "text/plain": [
       "'https://twitter.com/hacettepepa/status/1609119866417553409'"
      ]
     },
     "metadata": {},
     "output_type": "display_data"
    },
    {
     "data": {
      "text/html": [
       "<blockquote class=\"twitter-tweet\"><p lang=\"tr\" dir=\"ltr\">Yeni yılınızda sağlık başta olmak üzere; mutluluk, huzur, başarı dileriz! ✨<br><br>Daha çok P&amp;A&#39;li anılara... 🤍🥂<a href=\"https://twitter.com/hashtag/hacettepe?src=hash&amp;ref_src=twsrc%5Etfw\">#hacettepe</a> <a href=\"https://twitter.com/hashtag/hacettepe%C3%BCniversitesi?src=hash&amp;ref_src=twsrc%5Etfw\">#hacettepeüniversitesi</a> <a href=\"https://twitter.com/hashtag/hacettepeuniversity?src=hash&amp;ref_src=twsrc%5Etfw\">#hacettepeuniversity</a> <a href=\"https://twitter.com/hashtag/hacettepepa?src=hash&amp;ref_src=twsrc%5Etfw\">#hacettepepa</a> <a href=\"https://twitter.com/hashtag/y%C4%B1lba%C5%9F%C4%B1?src=hash&amp;ref_src=twsrc%5Etfw\">#yılbaşı</a> <a href=\"https://twitter.com/hashtag/christmas?src=hash&amp;ref_src=twsrc%5Etfw\">#christmas</a> <a href=\"https://twitter.com/hashtag/happynewyear?src=hash&amp;ref_src=twsrc%5Etfw\">#happynewyear</a> <a href=\"https://t.co/uCHRZ566gh\">pic.twitter.com/uCHRZ566gh</a></p>&mdash; Hacettepe P&amp;A Topluluğu (@hacettepepa) <a href=\"https://twitter.com/hacettepepa/status/1609119866417553409?ref_src=twsrc%5Etfw\">December 31, 2022</a></blockquote>\n",
       "<script async src=\"https://platform.twitter.com/widgets.js\" charset=\"utf-8\"></script>\n"
      ],
      "text/plain": [
       "<IPython.core.display.HTML object>"
      ]
     },
     "metadata": {},
     "output_type": "display_data"
    },
    {
     "data": {
      "text/plain": [
       "'https://twitter.com/hacettepepa/status/1609119866417553409'"
      ]
     },
     "metadata": {},
     "output_type": "display_data"
    },
    {
     "data": {
      "text/html": [
       "<blockquote class=\"twitter-tweet\"><p lang=\"tr\" dir=\"ltr\">Yeni yılınızda sağlık başta olmak üzere; mutluluk, huzur, başarı dileriz! ✨<br><br>Daha çok P&amp;A&#39;li anılara... 🤍🥂<a href=\"https://twitter.com/hashtag/hacettepe?src=hash&amp;ref_src=twsrc%5Etfw\">#hacettepe</a> <a href=\"https://twitter.com/hashtag/hacettepe%C3%BCniversitesi?src=hash&amp;ref_src=twsrc%5Etfw\">#hacettepeüniversitesi</a> <a href=\"https://twitter.com/hashtag/hacettepeuniversity?src=hash&amp;ref_src=twsrc%5Etfw\">#hacettepeuniversity</a> <a href=\"https://twitter.com/hashtag/hacettepepa?src=hash&amp;ref_src=twsrc%5Etfw\">#hacettepepa</a> <a href=\"https://twitter.com/hashtag/y%C4%B1lba%C5%9F%C4%B1?src=hash&amp;ref_src=twsrc%5Etfw\">#yılbaşı</a> <a href=\"https://twitter.com/hashtag/christmas?src=hash&amp;ref_src=twsrc%5Etfw\">#christmas</a> <a href=\"https://twitter.com/hashtag/happynewyear?src=hash&amp;ref_src=twsrc%5Etfw\">#happynewyear</a> <a href=\"https://t.co/uCHRZ566gh\">pic.twitter.com/uCHRZ566gh</a></p>&mdash; Hacettepe P&amp;A Topluluğu (@hacettepepa) <a href=\"https://twitter.com/hacettepepa/status/1609119866417553409?ref_src=twsrc%5Etfw\">December 31, 2022</a></blockquote>\n",
       "<script async src=\"https://platform.twitter.com/widgets.js\" charset=\"utf-8\"></script>\n"
      ],
      "text/plain": [
       "<IPython.core.display.HTML object>"
      ]
     },
     "metadata": {},
     "output_type": "display_data"
    },
    {
     "data": {
      "text/plain": [
       "'https://twitter.com/meltmpp/status/1610646863719407616'"
      ]
     },
     "metadata": {},
     "output_type": "display_data"
    },
    {
     "data": {
      "text/html": [
       "<blockquote class=\"twitter-tweet\"><p lang=\"en\" dir=\"ltr\">The Godfather - Hacettepe University <a href=\"https://t.co/gJyVzGzvsE\">https://t.co/gJyVzGzvsE</a></p>&mdash; Meltem🪬 (@meltmpp) <a href=\"https://twitter.com/meltmpp/status/1610646863719407616?ref_src=twsrc%5Etfw\">January 4, 2023</a></blockquote>\n",
       "<script async src=\"https://platform.twitter.com/widgets.js\" charset=\"utf-8\"></script>\n"
      ],
      "text/plain": [
       "<IPython.core.display.HTML object>"
      ]
     },
     "metadata": {},
     "output_type": "display_data"
    },
    {
     "data": {
      "text/plain": [
       "'https://twitter.com/hacettepepa/status/1609119866417553409'"
      ]
     },
     "metadata": {},
     "output_type": "display_data"
    },
    {
     "data": {
      "text/html": [
       "<blockquote class=\"twitter-tweet\"><p lang=\"tr\" dir=\"ltr\">Yeni yılınızda sağlık başta olmak üzere; mutluluk, huzur, başarı dileriz! ✨<br><br>Daha çok P&amp;A&#39;li anılara... 🤍🥂<a href=\"https://twitter.com/hashtag/hacettepe?src=hash&amp;ref_src=twsrc%5Etfw\">#hacettepe</a> <a href=\"https://twitter.com/hashtag/hacettepe%C3%BCniversitesi?src=hash&amp;ref_src=twsrc%5Etfw\">#hacettepeüniversitesi</a> <a href=\"https://twitter.com/hashtag/hacettepeuniversity?src=hash&amp;ref_src=twsrc%5Etfw\">#hacettepeuniversity</a> <a href=\"https://twitter.com/hashtag/hacettepepa?src=hash&amp;ref_src=twsrc%5Etfw\">#hacettepepa</a> <a href=\"https://twitter.com/hashtag/y%C4%B1lba%C5%9F%C4%B1?src=hash&amp;ref_src=twsrc%5Etfw\">#yılbaşı</a> <a href=\"https://twitter.com/hashtag/christmas?src=hash&amp;ref_src=twsrc%5Etfw\">#christmas</a> <a href=\"https://twitter.com/hashtag/happynewyear?src=hash&amp;ref_src=twsrc%5Etfw\">#happynewyear</a> <a href=\"https://t.co/uCHRZ566gh\">pic.twitter.com/uCHRZ566gh</a></p>&mdash; Hacettepe P&amp;A Topluluğu (@hacettepepa) <a href=\"https://twitter.com/hacettepepa/status/1609119866417553409?ref_src=twsrc%5Etfw\">December 31, 2022</a></blockquote>\n",
       "<script async src=\"https://platform.twitter.com/widgets.js\" charset=\"utf-8\"></script>\n"
      ],
      "text/plain": [
       "<IPython.core.display.HTML object>"
      ]
     },
     "metadata": {},
     "output_type": "display_data"
    },
    {
     "data": {
      "text/plain": [
       "'https://twitter.com/YahyaDemirler/status/1610734607615369216'"
      ]
     },
     "metadata": {},
     "output_type": "display_data"
    },
    {
     "data": {
      "text/html": [
       "<blockquote class=\"twitter-tweet\"><p lang=\"en\" dir=\"ltr\">As Neurosurgery Interest Group of Hacettepe University Faculty of Medicine Scientific Research Community (<a href=\"https://twitter.com/hutbat_official?ref_src=twsrc%5Etfw\">@hutbat_official</a>  ) we were in usual Ankara Neurosurgery Meetings in Gazi University School of Medicine. Thanks to our mentor professor Şahin Hanalioğlu (<a href=\"https://twitter.com/hanalioglu?ref_src=twsrc%5Etfw\">@hanalioglu</a>  ) <a href=\"https://t.co/SEB4cSF1FI\">pic.twitter.com/SEB4cSF1FI</a></p>&mdash; Yahya Demirler (@YahyaDemirler) <a href=\"https://twitter.com/YahyaDemirler/status/1610734607615369216?ref_src=twsrc%5Etfw\">January 4, 2023</a></blockquote>\n",
       "<script async src=\"https://platform.twitter.com/widgets.js\" charset=\"utf-8\"></script>\n"
      ],
      "text/plain": [
       "<IPython.core.display.HTML object>"
      ]
     },
     "metadata": {},
     "output_type": "display_data"
    }
   ],
   "source": [
    "for i in range(1, len(Tweets_df)):\n",
    "    sample_tweet_link = Tweets_df.sample(i)['link'].values[0]\n",
    "    display(sample_tweet_link)\n",
    "    show_tweet(sample_tweet_link)\n",
    "Tweets_df.to_csv(r'all_tweets.csv')"
   ]
  },
  {
   "cell_type": "code",
   "execution_count": null,
   "id": "a7616902",
   "metadata": {},
   "outputs": [],
   "source": []
  }
 ],
 "metadata": {
  "kernelspec": {
   "display_name": "Python 3",
   "language": "python",
   "name": "python3"
  },
  "language_info": {
   "codemirror_mode": {
    "name": "ipython",
    "version": 3
   },
   "file_extension": ".py",
   "mimetype": "text/x-python",
   "name": "python",
   "nbconvert_exporter": "python",
   "pygments_lexer": "ipython3",
   "version": "3.9.1"
  }
 },
 "nbformat": 4,
 "nbformat_minor": 5
}
