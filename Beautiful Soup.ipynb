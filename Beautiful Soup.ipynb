{
 "cells": [
  {
   "cell_type": "code",
   "execution_count": 1,
   "id": "c33fcc90",
   "metadata": {},
   "outputs": [],
   "source": [
    "from bs4 import BeautifulSoup\n",
    "import requests"
   ]
  },
  {
   "cell_type": "code",
   "execution_count": 2,
   "id": "13f41473",
   "metadata": {},
   "outputs": [],
   "source": [
    "HEADERS = ({'User-Agent':\n",
    "            'Mozilla/5.0 (X11; Linux x86_64) AppleWebKit/537.36 (KHTML, like Gecko) Chrome/44.0.2403.157 Safari/537.36',\n",
    "            'Accept-Language': 'en-US, en;q=0.5'})"
   ]
  },
  {
   "cell_type": "code",
   "execution_count": 3,
   "id": "e8f42a43",
   "metadata": {},
   "outputs": [],
   "source": [
    "# Function to extract Product Title\n",
    "def get_title(soup):\n",
    "    try:\n",
    "        # Outer Tag Object\n",
    "        title = soup.find(\"span\", attrs={\"id\":'productTitle'})\n",
    "        # Inner NavigableString Object\n",
    "        title_value = title.string\n",
    "        # Title as a string value\n",
    "        title_string = title_value.strip()\n",
    "    except AttributeError:\n",
    "        title_string = \"\"\n",
    "    return title_string"
   ]
  },
  {
   "cell_type": "code",
   "execution_count": 4,
   "id": "323140dc",
   "metadata": {},
   "outputs": [],
   "source": [
    "# Function to extract Product Price\n",
    "def get_price(soup):\n",
    "    try:\n",
    "        price = soup.find(\"span\", attrs={'class': 'a-offscreen'}).string.strip()\n",
    "    except AttributeError:\n",
    "        price = \"\"\n",
    "    return price"
   ]
  },
  {
   "cell_type": "code",
   "execution_count": 5,
   "id": "4504a52c",
   "metadata": {},
   "outputs": [],
   "source": [
    "# Function to extract Product Rating\n",
    "def get_rating(soup):\n",
    "\n",
    "    try:\n",
    "        rating = soup.find(\"i\", attrs={'class':'a-icon a-icon-star a-star-4-5'}).string.strip()\n",
    "    except AttributeError:\n",
    "        try:\n",
    "            rating = soup.find(\"span\", attrs={'class':'a-icon-alt'}).string.strip()\n",
    "        except:\n",
    "            rating = \"\"\n",
    "    return rating"
   ]
  },
  {
   "cell_type": "code",
   "execution_count": 6,
   "id": "720797e9",
   "metadata": {},
   "outputs": [],
   "source": [
    "# Function to extract Number of User Reviews\n",
    "def get_review_count(soup):\n",
    "    try:\n",
    "        review_count = soup.find(\"span\", attrs={'id':'acrCustomerReviewText'}).string.strip()\n",
    "    except AttributeError:\n",
    "        review_count = \"\"\n",
    "    return review_count"
   ]
  },
  {
   "cell_type": "code",
   "execution_count": 7,
   "id": "56154481",
   "metadata": {},
   "outputs": [],
   "source": [
    "# Function to extract Availability Status\n",
    "def get_availability(soup):\n",
    "    try:\n",
    "        available = soup.find(\"div\", attrs={'id':'availability'})\n",
    "        available = available.find(\"span\").string.strip()\n",
    "    except AttributeError:\n",
    "        available = \"\"\n",
    "    return available"
   ]
  },
  {
   "cell_type": "code",
   "execution_count": 8,
   "id": "6c3faaf3",
   "metadata": {},
   "outputs": [
    {
     "name": "stdout",
     "output_type": "stream",
     "text": [
      "Product Title = Steelseries Apex 5 Hibrit Mekanik Gaming Klavye, Her Tuş İçin Rgb Aydınlatma, Oled Ekran, Türkçe Qwerty\n",
      "Product Price = 2.036,96TL\n",
      "Product Rating = 5 yıldız üzerinden 4,4\n",
      "Number of Product Reviews = 60 değerlendirme\n",
      "Availability = Stokta var.\n"
     ]
    }
   ],
   "source": [
    "# The webpage URL\n",
    "URL = \"https://www.amazon.com.tr/Steelseries-Hibrit-Mekanik-Gaming-Aydınlatma/dp/B0833HT3BQ/ref=sr_1_5?__mk_tr_TR=ÅMÅŽÕÑ&crid=206MTWBDGGHFZ&keywords=keyboard&qid=1673013990&sprefix=keyboar%2Caps%2C150&sr=8-5\"\n",
    "\n",
    "# HTTP Request\n",
    "webpage = requests.get(URL, headers=HEADERS)\n",
    "\n",
    "# Soup Object containing all data\n",
    "soup = BeautifulSoup(webpage.content, \"lxml\")\n",
    "\n",
    "# Function calls to display all necessary product information\n",
    "print(\"Product Title =\", get_title(soup))\n",
    "print(\"Product Price =\", get_price(soup))\n",
    "print(\"Product Rating =\", get_rating(soup))\n",
    "print(\"Number of Product Reviews =\", get_review_count(soup))\n",
    "print(\"Availability =\", get_availability(soup))\n"
   ]
  },
  {
   "cell_type": "code",
   "execution_count": null,
   "id": "32912ebc",
   "metadata": {},
   "outputs": [],
   "source": []
  }
 ],
 "metadata": {
  "kernelspec": {
   "display_name": "Python 3",
   "language": "python",
   "name": "python3"
  },
  "language_info": {
   "codemirror_mode": {
    "name": "ipython",
    "version": 3
   },
   "file_extension": ".py",
   "mimetype": "text/x-python",
   "name": "python",
   "nbconvert_exporter": "python",
   "pygments_lexer": "ipython3",
   "version": "3.9.1"
  }
 },
 "nbformat": 4,
 "nbformat_minor": 5
}
